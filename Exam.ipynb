{
 "cells": [
  {
   "cell_type": "code",
   "execution_count": 34,
   "metadata": {},
   "outputs": [
    {
     "name": "stdout",
     "output_type": "stream",
     "text": [
      "('The suffeld array is', [10, 8, 6, 4, 2, 1, 3, 5, 7, 9])\n"
     ]
    }
   ],
   "source": [
    "def suffle_multiples(Array,N):\n",
    "    \n",
    "    suffle=[]\n",
    "    \n",
    "    i=0\n",
    "    \n",
    "    while not i==len(Array):\n",
    "        \n",
    "        x=Array[i]%N\n",
    "        \n",
    "        if (x==0):\n",
    "            \n",
    "            suffle.insert(0,Array[i])\n",
    "            \n",
    "        else:\n",
    "            \n",
    "            suffle.append(Array[i])\n",
    "        \n",
    "        i+=1\n",
    "        \n",
    "    return suffle\n",
    "\n",
    "Array=[1,2,3,4,5,6,7,8,9,10]\n",
    "\n",
    "N=2\n",
    "\n",
    "print(\"The suffeld array is\", suffle_multiples(Array,N))\n",
    "            \n",
    "            \n",
    "            \n",
    "            \n",
    "    \n",
    "    "
   ]
  },
  {
   "cell_type": "code",
   "execution_count": 3,
   "metadata": {},
   "outputs": [
    {
     "name": "stdout",
     "output_type": "stream",
     "text": [
      "[6, 7, 8, 9, 10, 1, 2, 3, 4, 5]\n"
     ]
    }
   ],
   "source": [
    "def rotate(Array,K):\n",
    "\n",
    "    position=1\n",
    "\n",
    "    while not (position>K):\n",
    "\n",
    "        X=Array.pop(0)\n",
    "        Array.append(X)\n",
    "        position+=1\n",
    "    \n",
    "    return Array\n",
    "\n",
    "K=5\n",
    "\n",
    "print rotate(Array,K)"
   ]
  },
  {
   "cell_type": "code",
   "execution_count": 31,
   "metadata": {},
   "outputs": [
    {
     "name": "stdout",
     "output_type": "stream",
     "text": [
      "[2, 1, 4, 3, 6, 5, 8, 7, 10, 9, 11]\n"
     ]
    }
   ],
   "source": [
    "def skip(Array):\n",
    "    \n",
    "    i=0\n",
    "    x=len(Array)\n",
    "    \n",
    "    if not (x%2==0):\n",
    "        \n",
    "        x=x-1\n",
    "    \n",
    "    while not (i==x):\n",
    "        \n",
    "        temp = Array[i]\n",
    "        \n",
    "        Array[i]=Array[i+1]\n",
    "        \n",
    "        Array[i+1]=temp\n",
    "        \n",
    "        i+=2\n",
    "        \n",
    "    return Array\n",
    "\n",
    "Array=[1,2,3,4,5,6,7,8,9,10,11]\n",
    "\n",
    "print (skip(Array))\n",
    "        \n",
    "        \n",
    "        \n",
    "    \n",
    "    "
   ]
  },
  {
   "cell_type": "code",
   "execution_count": 37,
   "metadata": {},
   "outputs": [
    {
     "name": "stdout",
     "output_type": "stream",
     "text": [
      "[4, 3, 6, 5, 8, 7, 10, 9, 2, 1]\n",
      "[9, 6, 3, 4, 5, 8, 7, 10, 2, 1]\n",
      "[6, 9, 4, 3, 8, 5, 10, 7, 1, 2]\n"
     ]
    }
   ],
   "source": [
    "Feedback = skip(Array)\n",
    "\n",
    "K1 = 4\n",
    "\n",
    "print rotate(Feedback,K1)\n",
    "\n",
    "N1 = 3\n",
    "\n",
    "print suffle_multiples(Feedback,N1)\n",
    "\n",
    "Feedback2 = suffle_multiples(Feedback,N1)\n",
    "\n",
    "print skip(Feedback2)\n"
   ]
  }
 ],
 "metadata": {
  "kernelspec": {
   "display_name": "Python 2",
   "language": "python",
   "name": "python2"
  },
  "language_info": {
   "codemirror_mode": {
    "name": "ipython",
    "version": 2
   },
   "file_extension": ".py",
   "mimetype": "text/x-python",
   "name": "python",
   "nbconvert_exporter": "python",
   "pygments_lexer": "ipython2",
   "version": "2.7.15"
  }
 },
 "nbformat": 4,
 "nbformat_minor": 2
}
