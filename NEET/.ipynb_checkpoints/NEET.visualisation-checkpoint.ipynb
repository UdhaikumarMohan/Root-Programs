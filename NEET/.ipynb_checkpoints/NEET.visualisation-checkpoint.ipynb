{
 "cells": [
  {
   "cell_type": "code",
   "execution_count": 1,
   "metadata": {},
   "outputs": [],
   "source": [
    "%matplotlib inline\n",
    "import matplotlib.pyplot as plt\n",
    "import pandas as pd\n",
    "import numpy as np"
   ]
  },
  {
   "cell_type": "code",
   "execution_count": 2,
   "metadata": {},
   "outputs": [
    {
     "data": {
      "text/html": [
       "<div>\n",
       "<style scoped>\n",
       "    .dataframe tbody tr th:only-of-type {\n",
       "        vertical-align: middle;\n",
       "    }\n",
       "\n",
       "    .dataframe tbody tr th {\n",
       "        vertical-align: top;\n",
       "    }\n",
       "\n",
       "    .dataframe thead th {\n",
       "        text-align: right;\n",
       "    }\n",
       "</style>\n",
       "<table border=\"1\" class=\"dataframe\">\n",
       "  <thead>\n",
       "    <tr style=\"text-align: right;\">\n",
       "      <th></th>\n",
       "      <th>SNO</th>\n",
       "      <th>RANK</th>\n",
       "      <th>ARNO</th>\n",
       "      <th>NAME</th>\n",
       "      <th>SEX</th>\n",
       "      <th>NEETNO</th>\n",
       "      <th>COM</th>\n",
       "      <th>MARKS</th>\n",
       "      <th>COLLEGENAME</th>\n",
       "      <th>QUOTA</th>\n",
       "      <th>COLLEGETYPE</th>\n",
       "      <th>FEES</th>\n",
       "      <th>COURSE</th>\n",
       "      <th>Year</th>\n",
       "    </tr>\n",
       "  </thead>\n",
       "  <tbody>\n",
       "    <tr>\n",
       "      <th>0</th>\n",
       "      <td>1</td>\n",
       "      <td>27.0</td>\n",
       "      <td>3903.0</td>\n",
       "      <td>ASHFAQ SULAIMAN A</td>\n",
       "      <td>M</td>\n",
       "      <td>80078691.0</td>\n",
       "      <td>BCM</td>\n",
       "      <td>594.0</td>\n",
       "      <td>MADRAS MEDICAL COLLEGE, CHENNAI</td>\n",
       "      <td>GOVT</td>\n",
       "      <td>GOVT</td>\n",
       "      <td>13600.0</td>\n",
       "      <td>MBBS</td>\n",
       "      <td>2017</td>\n",
       "    </tr>\n",
       "    <tr>\n",
       "      <th>1</th>\n",
       "      <td>2</td>\n",
       "      <td>30.0</td>\n",
       "      <td>211.0</td>\n",
       "      <td>A.SAMYUKTHA</td>\n",
       "      <td>F</td>\n",
       "      <td>80934693.0</td>\n",
       "      <td>OC</td>\n",
       "      <td>590.0</td>\n",
       "      <td>MADRAS MEDICAL COLLEGE, CHENNAI</td>\n",
       "      <td>GOVT</td>\n",
       "      <td>GOVT</td>\n",
       "      <td>13600.0</td>\n",
       "      <td>MBBS</td>\n",
       "      <td>2017</td>\n",
       "    </tr>\n",
       "    <tr>\n",
       "      <th>2</th>\n",
       "      <td>3</td>\n",
       "      <td>32.0</td>\n",
       "      <td>50032.0</td>\n",
       "      <td>ARUSHI AGARWAL</td>\n",
       "      <td>F</td>\n",
       "      <td>80462392.0</td>\n",
       "      <td>OC</td>\n",
       "      <td>587.0</td>\n",
       "      <td>MADRAS MEDICAL COLLEGE, CHENNAI</td>\n",
       "      <td>GOVT</td>\n",
       "      <td>GOVT</td>\n",
       "      <td>13600.0</td>\n",
       "      <td>MBBS</td>\n",
       "      <td>2017</td>\n",
       "    </tr>\n",
       "    <tr>\n",
       "      <th>3</th>\n",
       "      <td>4</td>\n",
       "      <td>45.0</td>\n",
       "      <td>452.0</td>\n",
       "      <td>ADHITHYA.M</td>\n",
       "      <td>M</td>\n",
       "      <td>80136792.0</td>\n",
       "      <td>MBC/DNC</td>\n",
       "      <td>577.0</td>\n",
       "      <td>MADRAS MEDICAL COLLEGE, CHENNAI</td>\n",
       "      <td>GOVT</td>\n",
       "      <td>GOVT</td>\n",
       "      <td>13600.0</td>\n",
       "      <td>MBBS</td>\n",
       "      <td>2017</td>\n",
       "    </tr>\n",
       "    <tr>\n",
       "      <th>4</th>\n",
       "      <td>5</td>\n",
       "      <td>46.0</td>\n",
       "      <td>24946.0</td>\n",
       "      <td>KATYAYANI GOSWAMI</td>\n",
       "      <td>F</td>\n",
       "      <td>80686311.0</td>\n",
       "      <td>OC</td>\n",
       "      <td>575.0</td>\n",
       "      <td>MADRAS MEDICAL COLLEGE, CHENNAI</td>\n",
       "      <td>GOVT</td>\n",
       "      <td>GOVT</td>\n",
       "      <td>13600.0</td>\n",
       "      <td>MBBS</td>\n",
       "      <td>2017</td>\n",
       "    </tr>\n",
       "  </tbody>\n",
       "</table>\n",
       "</div>"
      ],
      "text/plain": [
       "   SNO  RANK     ARNO               NAME SEX      NEETNO      COM  MARKS  \\\n",
       "0    1  27.0   3903.0  ASHFAQ SULAIMAN A   M  80078691.0      BCM  594.0   \n",
       "1    2  30.0    211.0        A.SAMYUKTHA   F  80934693.0       OC  590.0   \n",
       "2    3  32.0  50032.0     ARUSHI AGARWAL   F  80462392.0       OC  587.0   \n",
       "3    4  45.0    452.0         ADHITHYA.M   M  80136792.0  MBC/DNC  577.0   \n",
       "4    5  46.0  24946.0  KATYAYANI GOSWAMI   F  80686311.0       OC  575.0   \n",
       "\n",
       "                       COLLEGENAME QUOTA COLLEGETYPE     FEES COURSE  Year  \n",
       "0  MADRAS MEDICAL COLLEGE, CHENNAI  GOVT        GOVT  13600.0   MBBS  2017  \n",
       "1  MADRAS MEDICAL COLLEGE, CHENNAI  GOVT        GOVT  13600.0   MBBS  2017  \n",
       "2  MADRAS MEDICAL COLLEGE, CHENNAI  GOVT        GOVT  13600.0   MBBS  2017  \n",
       "3  MADRAS MEDICAL COLLEGE, CHENNAI  GOVT        GOVT  13600.0   MBBS  2017  \n",
       "4  MADRAS MEDICAL COLLEGE, CHENNAI  GOVT        GOVT  13600.0   MBBS  2017  "
      ]
     },
     "execution_count": 2,
     "metadata": {},
     "output_type": "execute_result"
    }
   ],
   "source": [
    "Neet = pd.read_csv('NEWNEETDATA.csv')\n",
    "Neet.head()"
   ]
  },
  {
   "cell_type": "code",
   "execution_count": 4,
   "metadata": {
    "collapsed": true
   },
   "outputs": [
    {
     "data": {
      "text/plain": [
       "0          27.0\n",
       "1          30.0\n",
       "2          32.0\n",
       "3          45.0\n",
       "4          46.0\n",
       "5          47.0\n",
       "6          49.0\n",
       "7          53.0\n",
       "8          57.0\n",
       "9          59.0\n",
       "10         61.0\n",
       "11         62.0\n",
       "12         64.0\n",
       "13         65.0\n",
       "14         66.0\n",
       "15         67.0\n",
       "16         68.0\n",
       "17         69.0\n",
       "18         70.0\n",
       "19         71.0\n",
       "20         72.0\n",
       "21         73.0\n",
       "22         74.0\n",
       "23         75.0\n",
       "24         77.0\n",
       "25         78.0\n",
       "26         79.0\n",
       "27         80.0\n",
       "28         81.0\n",
       "29         82.0\n",
       "          ...  \n",
       "12325    2050.0\n",
       "12326    2062.0\n",
       "12327    2064.0\n",
       "12328    2070.0\n",
       "12329    2082.0\n",
       "12330    2083.0\n",
       "12331    2095.0\n",
       "12332    2102.0\n",
       "12333    2103.0\n",
       "12334    2114.0\n",
       "12335    2119.0\n",
       "12336    2128.0\n",
       "12337    2137.0\n",
       "12338    2889.0\n",
       "12339    3079.0\n",
       "12340    3658.0\n",
       "12341    3735.0\n",
       "12342    3763.0\n",
       "12343    3816.0\n",
       "12344    3840.0\n",
       "12345    3901.0\n",
       "12346    3909.0\n",
       "12347    3945.0\n",
       "12348    3981.0\n",
       "12349    4025.0\n",
       "12350    4029.0\n",
       "12351    4039.0\n",
       "12352    4075.0\n",
       "12353    4125.0\n",
       "12354    7089.0\n",
       "Name: RANK, Length: 12355, dtype: float64"
      ]
     },
     "execution_count": 4,
     "metadata": {},
     "output_type": "execute_result"
    }
   ],
   "source": [
    "Neet.RANK"
   ]
  },
  {
   "cell_type": "code",
   "execution_count": 3,
   "metadata": {},
   "outputs": [
    {
     "data": {
      "text/plain": [
       "58"
      ]
     },
     "execution_count": 3,
     "metadata": {},
     "output_type": "execute_result"
    }
   ],
   "source": [
    "Neet.COLLEGENAME.nunique()"
   ]
  },
  {
   "cell_type": "code",
   "execution_count": 10,
   "metadata": {},
   "outputs": [
    {
     "data": {
      "text/plain": [
       "BC         4700\n",
       "MBC/DNC    2149\n",
       "SC         1696\n",
       "OBC        1055\n",
       "OC         1013\n",
       "Name: COM, dtype: int64"
      ]
     },
     "execution_count": 10,
     "metadata": {},
     "output_type": "execute_result"
    }
   ],
   "source": [
    "Reservation = Neet['COM'].value_counts()\n",
    "Reservation.head()"
   ]
  },
  {
   "cell_type": "code",
   "execution_count": 20,
   "metadata": {},
   "outputs": [
    {
     "data": {
      "text/plain": [
       "<matplotlib.axes._subplots.AxesSubplot at 0xb99ab70>"
      ]
     },
     "execution_count": 20,
     "metadata": {},
     "output_type": "execute_result"
    },
    {
     "data": {
      "image/png": "[encoded data removed]",
      "text/plain": [
       "<Figure size 432x288 with 1 Axes>"
      ]
     },
     "metadata": {
      "needs_background": "light"
     },
     "output_type": "display_data"
    }
   ],
   "source": [
    "Reservation.plot.bar()"
   ]
  },
  {
   "cell_type": "code",
   "execution_count": 22,
   "metadata": {},
   "outputs": [
    {
     "data": {
      "text/plain": [
       "MBBS    9163\n",
       "BDS     3192\n",
       "Name: COURSE, dtype: int64"
      ]
     },
     "execution_count": 22,
     "metadata": {},
     "output_type": "execute_result"
    }
   ],
   "source": [
    "Course = Neet['COURSE'].value_counts()\n",
    "Course.head()"
   ]
  },
  {
   "cell_type": "code",
   "execution_count": 23,
   "metadata": {},
   "outputs": [
    {
     "data": {
      "text/plain": [
       "<matplotlib.axes._subplots.AxesSubplot at 0xbd62278>"
      ]
     },
     "execution_count": 23,
     "metadata": {},
     "output_type": "execute_result"
    },
    {
     "data": {
      "image/png": "[encoded data removed]",
      "text/plain": [
       "<Figure size 432x288 with 1 Axes>"
      ]
     },
     "metadata": {
      "needs_background": "light"
     },
     "output_type": "display_data"
    }
   ],
   "source": [
    "Course.plot.bar()"
   ]
  },
  {
   "cell_type": "code",
   "execution_count": 28,
   "metadata": {},
   "outputs": [
    {
     "data": {
      "text/plain": [
       "F     7085\n",
       "M     4455\n",
       "UR       2\n",
       "IM       1\n",
       "ST       1\n",
       "Name: SEX, dtype: int64"
      ]
     },
     "execution_count": 28,
     "metadata": {},
     "output_type": "execute_result"
    }
   ],
   "source": [
    "Gender = Neet['SEX'].value_counts()\n",
    "Gender.head()"
   ]
  },
  {
   "cell_type": "code",
   "execution_count": 33,
   "metadata": {},
   "outputs": [
    {
     "data": {
      "text/plain": [
       "<matplotlib.axes._subplots.AxesSubplot at 0xccf2978>"
      ]
     },
     "execution_count": 33,
     "metadata": {},
     "output_type": "execute_result"
    },
    {
     "data": {
      "image/png": "[encoded data removed]",
      "text/plain": [
       "<Figure size 432x288 with 1 Axes>"
      ]
     },
     "metadata": {
      "needs_background": "light"
     },
     "output_type": "display_data"
    }
   ],
   "source": [
    "Gender.plot.bar()"
   ]
  },
  {
   "cell_type": "code",
   "execution_count": 37,
   "metadata": {},
   "outputs": [
    {
     "data": {
      "text/plain": [
       "PRIVATE    6581\n",
       "GOVT       5774\n",
       "Name: COLLEGETYPE, dtype: int64"
      ]
     },
     "execution_count": 37,
     "metadata": {},
     "output_type": "execute_result"
    }
   ],
   "source": [
    "C_Type = Neet['COLLEGETYPE'].value_counts()\n",
    "C_Type.head()"
   ]
  },
  {
   "cell_type": "code",
   "execution_count": 38,
   "metadata": {},
   "outputs": [
    {
     "data": {
      "text/plain": [
       "<matplotlib.axes._subplots.AxesSubplot at 0xcd38438>"
      ]
     },
     "execution_count": 38,
     "metadata": {},
     "output_type": "execute_result"
    },
    {
     "data": {
      "image/png": "[encoded data removed]",
      "text/plain": [
       "<Figure size 432x288 with 1 Axes>"
      ]
     },
     "metadata": {
      "needs_background": "light"
     },
     "output_type": "display_data"
    }
   ],
   "source": [
    "C_Type.plot.bar()"
   ]
  },
  {
   "cell_type": "code",
   "execution_count": 42,
   "metadata": {},
   "outputs": [
    {
     "data": {
      "text/plain": [
       "MADRAS MEDICAL COLLEGE, CHENNAI                               500\n",
       "STANLEY MEDICAL COLLEGE, CHENNAI                              499\n",
       "MADURAI MEDICAL COLLEGE, MADURAI                              300\n",
       "RAJAH MUTHIAH MEDICAL COLLEGE & HOSPITAL (ANNAMALAI UNIV.)    300\n",
       "TIRUNELVELI MEDICAL COLLEGE, TIRUNELVELI                      300\n",
       "Name: COLLEGENAME, dtype: int64"
      ]
     },
     "execution_count": 42,
     "metadata": {},
     "output_type": "execute_result"
    }
   ],
   "source": [
    "C_Name = Neet['COLLEGENAME'].value_counts()\n",
    "C_Name.head()"
   ]
  },
  {
   "cell_type": "code",
   "execution_count": 44,
   "metadata": {},
   "outputs": [],
   "source": [
    "top_colleges=C_Name[:10]"
   ]
  },
  {
   "cell_type": "code",
   "execution_count": 48,
   "metadata": {},
   "outputs": [
    {
     "data": {
      "text/plain": [
       "<matplotlib.axes._subplots.AxesSubplot at 0xd3794a8>"
      ]
     },
     "execution_count": 48,
     "metadata": {},
     "output_type": "execute_result"
    },
    {
     "data": {
      "image/png": "[encoded data removed]",
      "text/plain": [
       "<Figure size 432x288 with 1 Axes>"
      ]
     },
     "metadata": {},
     "output_type": "display_data"
    }
   ],
   "source": [
    "top_colleges.plot.pie()"
   ]
  }
 ],
 "metadata": {
  "kernelspec": {
   "display_name": "Python 2",
   "language": "python",
   "name": "python2"
  },
  "language_info": {
   "codemirror_mode": {
    "name": "ipython",
    "version": 2
   },
   "file_extension": ".py",
   "mimetype": "text/x-python",
   "name": "python",
   "nbconvert_exporter": "python",
   "pygments_lexer": "ipython2",
   "version": "2.7.15"
  }
 },
 "nbformat": 4,
 "nbformat_minor": 2
}
