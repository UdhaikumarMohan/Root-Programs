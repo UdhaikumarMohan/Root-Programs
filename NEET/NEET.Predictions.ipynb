{
 "cells": [
  {
   "cell_type": "code",
   "execution_count": 1,
   "metadata": {},
   "outputs": [
    {
     "data": {
      "text/plain": [
       "True"
      ]
     },
     "execution_count": 1,
     "metadata": {},
     "output_type": "execute_result"
    }
   ],
   "source": [
    "import pandas as pd\n",
    "import webbrowser\n",
    "import os\n",
    "\n",
    "# Read the dataset into a data table using Pandas\n",
    "data_table = pd.read_csv(\"NEWNEETDATA.csv\")\n",
    "\n",
    "# Create a web page view of the data for easy viewing\n",
    "html = data_table[0:100].to_html()\n",
    "\n",
    "# Save the html to a temporary file\n",
    "with open(\"neet.html\", \"w\") as f:\n",
    "    f.write(html)\n",
    "\n",
    "# Open the web page in our web browser\n",
    "full_filename = os.path.abspath(\"neet.html\")\n",
    "webbrowser.open(\"file://{}\".format(full_filename))"
   ]
  },
  {
   "cell_type": "code",
   "execution_count": 2,
   "metadata": {},
   "outputs": [],
   "source": [
    "import pandas as pd \n",
    "import numpy as np"
   ]
  },
  {
   "cell_type": "code",
   "execution_count": 3,
   "metadata": {},
   "outputs": [
    {
     "data": {
      "text/plain": [
       "u'0.23.4'"
      ]
     },
     "execution_count": 3,
     "metadata": {},
     "output_type": "execute_result"
    }
   ],
   "source": [
    "pd.__version__"
   ]
  },
  {
   "cell_type": "code",
   "execution_count": 4,
   "metadata": {},
   "outputs": [],
   "source": [
    "Read_Neet = pd.read_csv('NEWNEETDATA.csv')\n",
    "del Read_Neet['SNO']\n",
    "del Read_Neet['NAME']"
   ]
  },
  {
   "cell_type": "code",
   "execution_count": 5,
   "metadata": {},
   "outputs": [
    {
     "data": {
      "text/html": [
       "<div>\n",
       "<style scoped>\n",
       "    .dataframe tbody tr th:only-of-type {\n",
       "        vertical-align: middle;\n",
       "    }\n",
       "\n",
       "    .dataframe tbody tr th {\n",
       "        vertical-align: top;\n",
       "    }\n",
       "\n",
       "    .dataframe thead th {\n",
       "        text-align: right;\n",
       "    }\n",
       "</style>\n",
       "<table border=\"1\" class=\"dataframe\">\n",
       "  <thead>\n",
       "    <tr style=\"text-align: right;\">\n",
       "      <th></th>\n",
       "      <th>RANK</th>\n",
       "      <th>ARNO</th>\n",
       "      <th>SEX</th>\n",
       "      <th>NEETNO</th>\n",
       "      <th>COM</th>\n",
       "      <th>MARKS</th>\n",
       "      <th>COLLEGENAME</th>\n",
       "      <th>QUOTA</th>\n",
       "      <th>COLLEGETYPE</th>\n",
       "      <th>FEES</th>\n",
       "      <th>COURSE</th>\n",
       "      <th>Year</th>\n",
       "    </tr>\n",
       "  </thead>\n",
       "  <tbody>\n",
       "    <tr>\n",
       "      <th>0</th>\n",
       "      <td>27.0</td>\n",
       "      <td>3903.0</td>\n",
       "      <td>M</td>\n",
       "      <td>80078691.0</td>\n",
       "      <td>BCM</td>\n",
       "      <td>594.0</td>\n",
       "      <td>MADRAS MEDICAL COLLEGE, CHENNAI</td>\n",
       "      <td>GOVT</td>\n",
       "      <td>GOVT</td>\n",
       "      <td>13600.0</td>\n",
       "      <td>MBBS</td>\n",
       "      <td>2017</td>\n",
       "    </tr>\n",
       "    <tr>\n",
       "      <th>1</th>\n",
       "      <td>30.0</td>\n",
       "      <td>211.0</td>\n",
       "      <td>F</td>\n",
       "      <td>80934693.0</td>\n",
       "      <td>OC</td>\n",
       "      <td>590.0</td>\n",
       "      <td>MADRAS MEDICAL COLLEGE, CHENNAI</td>\n",
       "      <td>GOVT</td>\n",
       "      <td>GOVT</td>\n",
       "      <td>13600.0</td>\n",
       "      <td>MBBS</td>\n",
       "      <td>2017</td>\n",
       "    </tr>\n",
       "    <tr>\n",
       "      <th>2</th>\n",
       "      <td>32.0</td>\n",
       "      <td>50032.0</td>\n",
       "      <td>F</td>\n",
       "      <td>80462392.0</td>\n",
       "      <td>OC</td>\n",
       "      <td>587.0</td>\n",
       "      <td>MADRAS MEDICAL COLLEGE, CHENNAI</td>\n",
       "      <td>GOVT</td>\n",
       "      <td>GOVT</td>\n",
       "      <td>13600.0</td>\n",
       "      <td>MBBS</td>\n",
       "      <td>2017</td>\n",
       "    </tr>\n",
       "    <tr>\n",
       "      <th>3</th>\n",
       "      <td>45.0</td>\n",
       "      <td>452.0</td>\n",
       "      <td>M</td>\n",
       "      <td>80136792.0</td>\n",
       "      <td>MBC/DNC</td>\n",
       "      <td>577.0</td>\n",
       "      <td>MADRAS MEDICAL COLLEGE, CHENNAI</td>\n",
       "      <td>GOVT</td>\n",
       "      <td>GOVT</td>\n",
       "      <td>13600.0</td>\n",
       "      <td>MBBS</td>\n",
       "      <td>2017</td>\n",
       "    </tr>\n",
       "    <tr>\n",
       "      <th>4</th>\n",
       "      <td>46.0</td>\n",
       "      <td>24946.0</td>\n",
       "      <td>F</td>\n",
       "      <td>80686311.0</td>\n",
       "      <td>OC</td>\n",
       "      <td>575.0</td>\n",
       "      <td>MADRAS MEDICAL COLLEGE, CHENNAI</td>\n",
       "      <td>GOVT</td>\n",
       "      <td>GOVT</td>\n",
       "      <td>13600.0</td>\n",
       "      <td>MBBS</td>\n",
       "      <td>2017</td>\n",
       "    </tr>\n",
       "  </tbody>\n",
       "</table>\n",
       "</div>"
      ],
      "text/plain": [
       "   RANK     ARNO SEX      NEETNO      COM  MARKS  \\\n",
       "0  27.0   3903.0   M  80078691.0      BCM  594.0   \n",
       "1  30.0    211.0   F  80934693.0       OC  590.0   \n",
       "2  32.0  50032.0   F  80462392.0       OC  587.0   \n",
       "3  45.0    452.0   M  80136792.0  MBC/DNC  577.0   \n",
       "4  46.0  24946.0   F  80686311.0       OC  575.0   \n",
       "\n",
       "                       COLLEGENAME QUOTA COLLEGETYPE     FEES COURSE  Year  \n",
       "0  MADRAS MEDICAL COLLEGE, CHENNAI  GOVT        GOVT  13600.0   MBBS  2017  \n",
       "1  MADRAS MEDICAL COLLEGE, CHENNAI  GOVT        GOVT  13600.0   MBBS  2017  \n",
       "2  MADRAS MEDICAL COLLEGE, CHENNAI  GOVT        GOVT  13600.0   MBBS  2017  \n",
       "3  MADRAS MEDICAL COLLEGE, CHENNAI  GOVT        GOVT  13600.0   MBBS  2017  \n",
       "4  MADRAS MEDICAL COLLEGE, CHENNAI  GOVT        GOVT  13600.0   MBBS  2017  "
      ]
     },
     "execution_count": 5,
     "metadata": {},
     "output_type": "execute_result"
    }
   ],
   "source": [
    "Read_Neet.head()"
   ]
  },
  {
   "cell_type": "code",
   "execution_count": 6,
   "metadata": {},
   "outputs": [
    {
     "name": "stdout",
     "output_type": "stream",
     "text": [
      "<class 'pandas.core.frame.DataFrame'>\n",
      "RangeIndex: 12355 entries, 0 to 12354\n",
      "Data columns (total 12 columns):\n",
      "RANK           11954 non-null float64\n",
      "ARNO           11545 non-null float64\n",
      "SEX            11544 non-null object\n",
      "NEETNO         11826 non-null float64\n",
      "COM            12338 non-null object\n",
      "MARKS          12112 non-null float64\n",
      "COLLEGENAME    12355 non-null object\n",
      "QUOTA          12355 non-null object\n",
      "COLLEGETYPE    12355 non-null object\n",
      "FEES           5745 non-null float64\n",
      "COURSE         12355 non-null object\n",
      "Year           12355 non-null int64\n",
      "dtypes: float64(5), int64(1), object(6)\n",
      "memory usage: 1.1+ MB\n"
     ]
    }
   ],
   "source": [
    "Read_Neet.info()"
   ]
  },
  {
   "cell_type": "code",
   "execution_count": 7,
   "metadata": {},
   "outputs": [
    {
     "data": {
      "text/html": [
       "<div>\n",
       "<style scoped>\n",
       "    .dataframe tbody tr th:only-of-type {\n",
       "        vertical-align: middle;\n",
       "    }\n",
       "\n",
       "    .dataframe tbody tr th {\n",
       "        vertical-align: top;\n",
       "    }\n",
       "\n",
       "    .dataframe thead th {\n",
       "        text-align: right;\n",
       "    }\n",
       "</style>\n",
       "<table border=\"1\" class=\"dataframe\">\n",
       "  <thead>\n",
       "    <tr style=\"text-align: right;\">\n",
       "      <th></th>\n",
       "      <th>RANK</th>\n",
       "      <th>ARNO</th>\n",
       "      <th>NEETNO</th>\n",
       "      <th>MARKS</th>\n",
       "      <th>FEES</th>\n",
       "      <th>Year</th>\n",
       "    </tr>\n",
       "  </thead>\n",
       "  <tbody>\n",
       "    <tr>\n",
       "      <th>count</th>\n",
       "      <td>11954.000000</td>\n",
       "      <td>11545.000000</td>\n",
       "      <td>1.182600e+04</td>\n",
       "      <td>12112.000000</td>\n",
       "      <td>5745.000000</td>\n",
       "      <td>12355.000000</td>\n",
       "    </tr>\n",
       "    <tr>\n",
       "      <th>mean</th>\n",
       "      <td>7760.303999</td>\n",
       "      <td>23388.046254</td>\n",
       "      <td>3.014295e+08</td>\n",
       "      <td>302.995707</td>\n",
       "      <td>2389.442994</td>\n",
       "      <td>2017.502631</td>\n",
       "    </tr>\n",
       "    <tr>\n",
       "      <th>std</th>\n",
       "      <td>22463.551051</td>\n",
       "      <td>26321.586120</td>\n",
       "      <td>2.150766e+08</td>\n",
       "      <td>121.058218</td>\n",
       "      <td>5177.202680</td>\n",
       "      <td>0.500013</td>\n",
       "    </tr>\n",
       "    <tr>\n",
       "      <th>min</th>\n",
       "      <td>4.000000</td>\n",
       "      <td>3.000000</td>\n",
       "      <td>2.070000e+02</td>\n",
       "      <td>96.000000</td>\n",
       "      <td>0.000000</td>\n",
       "      <td>2017.000000</td>\n",
       "    </tr>\n",
       "    <tr>\n",
       "      <th>25%</th>\n",
       "      <td>1553.250000</td>\n",
       "      <td>5609.000000</td>\n",
       "      <td>8.039335e+07</td>\n",
       "      <td>206.000000</td>\n",
       "      <td>0.000000</td>\n",
       "      <td>2017.000000</td>\n",
       "    </tr>\n",
       "    <tr>\n",
       "      <th>50%</th>\n",
       "      <td>3554.000000</td>\n",
       "      <td>12387.000000</td>\n",
       "      <td>5.050295e+08</td>\n",
       "      <td>308.000000</td>\n",
       "      <td>0.000000</td>\n",
       "      <td>2018.000000</td>\n",
       "    </tr>\n",
       "    <tr>\n",
       "      <th>75%</th>\n",
       "      <td>8861.500000</td>\n",
       "      <td>24063.000000</td>\n",
       "      <td>5.116021e+08</td>\n",
       "      <td>384.000000</td>\n",
       "      <td>0.000000</td>\n",
       "      <td>2018.000000</td>\n",
       "    </tr>\n",
       "    <tr>\n",
       "      <th>max</th>\n",
       "      <td>553708.000000</td>\n",
       "      <td>99159.000000</td>\n",
       "      <td>5.149002e+08</td>\n",
       "      <td>656.000000</td>\n",
       "      <td>13699.000000</td>\n",
       "      <td>2018.000000</td>\n",
       "    </tr>\n",
       "  </tbody>\n",
       "</table>\n",
       "</div>"
      ],
      "text/plain": [
       "                RANK          ARNO        NEETNO         MARKS          FEES  \\\n",
       "count   11954.000000  11545.000000  1.182600e+04  12112.000000   5745.000000   \n",
       "mean     7760.303999  23388.046254  3.014295e+08    302.995707   2389.442994   \n",
       "std     22463.551051  26321.586120  2.150766e+08    121.058218   5177.202680   \n",
       "min         4.000000      3.000000  2.070000e+02     96.000000      0.000000   \n",
       "25%      1553.250000   5609.000000  8.039335e+07    206.000000      0.000000   \n",
       "50%      3554.000000  12387.000000  5.050295e+08    308.000000      0.000000   \n",
       "75%      8861.500000  24063.000000  5.116021e+08    384.000000      0.000000   \n",
       "max    553708.000000  99159.000000  5.149002e+08    656.000000  13699.000000   \n",
       "\n",
       "               Year  \n",
       "count  12355.000000  \n",
       "mean    2017.502631  \n",
       "std        0.500013  \n",
       "min     2017.000000  \n",
       "25%     2017.000000  \n",
       "50%     2018.000000  \n",
       "75%     2018.000000  \n",
       "max     2018.000000  "
      ]
     },
     "execution_count": 7,
     "metadata": {},
     "output_type": "execute_result"
    }
   ],
   "source": [
    "Read_Neet.describe()"
   ]
  },
  {
   "cell_type": "code",
   "execution_count": 8,
   "metadata": {},
   "outputs": [],
   "source": [
    "from sklearn.model_selection import train_test_split\n",
    "from sklearn import ensemble\n",
    "from sklearn.metrics import mean_absolute_error\n",
    "from sklearn.externals import joblib"
   ]
  },
  {
   "cell_type": "code",
   "execution_count": 9,
   "metadata": {
    "scrolled": true
   },
   "outputs": [
    {
     "data": {
      "text/html": [
       "<div>\n",
       "<style scoped>\n",
       "    .dataframe tbody tr th:only-of-type {\n",
       "        vertical-align: middle;\n",
       "    }\n",
       "\n",
       "    .dataframe tbody tr th {\n",
       "        vertical-align: top;\n",
       "    }\n",
       "\n",
       "    .dataframe thead th {\n",
       "        text-align: right;\n",
       "    }\n",
       "</style>\n",
       "<table border=\"1\" class=\"dataframe\">\n",
       "  <thead>\n",
       "    <tr style=\"text-align: right;\">\n",
       "      <th></th>\n",
       "      <th>RANK</th>\n",
       "      <th>ARNO</th>\n",
       "      <th>NEETNO</th>\n",
       "      <th>MARKS</th>\n",
       "      <th>COLLEGENAME</th>\n",
       "      <th>FEES</th>\n",
       "      <th>Year</th>\n",
       "      <th>SEX_F</th>\n",
       "      <th>SEX_IM</th>\n",
       "      <th>SEX_M</th>\n",
       "      <th>...</th>\n",
       "      <th>QUOTA_ALL INDIA</th>\n",
       "      <th>QUOTA_GOVT</th>\n",
       "      <th>QUOTA_MANG</th>\n",
       "      <th>QUOTA_MANG</th>\n",
       "      <th>QUOTA_NRI</th>\n",
       "      <th>QUOTA_NRI</th>\n",
       "      <th>COLLEGETYPE_GOVT</th>\n",
       "      <th>COLLEGETYPE_PRIVATE</th>\n",
       "      <th>COURSE_BDS</th>\n",
       "      <th>COURSE_MBBS</th>\n",
       "    </tr>\n",
       "  </thead>\n",
       "  <tbody>\n",
       "    <tr>\n",
       "      <th>0</th>\n",
       "      <td>27.0</td>\n",
       "      <td>3903.0</td>\n",
       "      <td>80078691.0</td>\n",
       "      <td>594.0</td>\n",
       "      <td>MADRAS MEDICAL COLLEGE, CHENNAI</td>\n",
       "      <td>13600.0</td>\n",
       "      <td>2017</td>\n",
       "      <td>0</td>\n",
       "      <td>0</td>\n",
       "      <td>1</td>\n",
       "      <td>...</td>\n",
       "      <td>0</td>\n",
       "      <td>1</td>\n",
       "      <td>0</td>\n",
       "      <td>0</td>\n",
       "      <td>0</td>\n",
       "      <td>0</td>\n",
       "      <td>1</td>\n",
       "      <td>0</td>\n",
       "      <td>0</td>\n",
       "      <td>1</td>\n",
       "    </tr>\n",
       "    <tr>\n",
       "      <th>1</th>\n",
       "      <td>30.0</td>\n",
       "      <td>211.0</td>\n",
       "      <td>80934693.0</td>\n",
       "      <td>590.0</td>\n",
       "      <td>MADRAS MEDICAL COLLEGE, CHENNAI</td>\n",
       "      <td>13600.0</td>\n",
       "      <td>2017</td>\n",
       "      <td>1</td>\n",
       "      <td>0</td>\n",
       "      <td>0</td>\n",
       "      <td>...</td>\n",
       "      <td>0</td>\n",
       "      <td>1</td>\n",
       "      <td>0</td>\n",
       "      <td>0</td>\n",
       "      <td>0</td>\n",
       "      <td>0</td>\n",
       "      <td>1</td>\n",
       "      <td>0</td>\n",
       "      <td>0</td>\n",
       "      <td>1</td>\n",
       "    </tr>\n",
       "    <tr>\n",
       "      <th>2</th>\n",
       "      <td>32.0</td>\n",
       "      <td>50032.0</td>\n",
       "      <td>80462392.0</td>\n",
       "      <td>587.0</td>\n",
       "      <td>MADRAS MEDICAL COLLEGE, CHENNAI</td>\n",
       "      <td>13600.0</td>\n",
       "      <td>2017</td>\n",
       "      <td>1</td>\n",
       "      <td>0</td>\n",
       "      <td>0</td>\n",
       "      <td>...</td>\n",
       "      <td>0</td>\n",
       "      <td>1</td>\n",
       "      <td>0</td>\n",
       "      <td>0</td>\n",
       "      <td>0</td>\n",
       "      <td>0</td>\n",
       "      <td>1</td>\n",
       "      <td>0</td>\n",
       "      <td>0</td>\n",
       "      <td>1</td>\n",
       "    </tr>\n",
       "    <tr>\n",
       "      <th>3</th>\n",
       "      <td>45.0</td>\n",
       "      <td>452.0</td>\n",
       "      <td>80136792.0</td>\n",
       "      <td>577.0</td>\n",
       "      <td>MADRAS MEDICAL COLLEGE, CHENNAI</td>\n",
       "      <td>13600.0</td>\n",
       "      <td>2017</td>\n",
       "      <td>0</td>\n",
       "      <td>0</td>\n",
       "      <td>1</td>\n",
       "      <td>...</td>\n",
       "      <td>0</td>\n",
       "      <td>1</td>\n",
       "      <td>0</td>\n",
       "      <td>0</td>\n",
       "      <td>0</td>\n",
       "      <td>0</td>\n",
       "      <td>1</td>\n",
       "      <td>0</td>\n",
       "      <td>0</td>\n",
       "      <td>1</td>\n",
       "    </tr>\n",
       "    <tr>\n",
       "      <th>4</th>\n",
       "      <td>46.0</td>\n",
       "      <td>24946.0</td>\n",
       "      <td>80686311.0</td>\n",
       "      <td>575.0</td>\n",
       "      <td>MADRAS MEDICAL COLLEGE, CHENNAI</td>\n",
       "      <td>13600.0</td>\n",
       "      <td>2017</td>\n",
       "      <td>1</td>\n",
       "      <td>0</td>\n",
       "      <td>0</td>\n",
       "      <td>...</td>\n",
       "      <td>0</td>\n",
       "      <td>1</td>\n",
       "      <td>0</td>\n",
       "      <td>0</td>\n",
       "      <td>0</td>\n",
       "      <td>0</td>\n",
       "      <td>1</td>\n",
       "      <td>0</td>\n",
       "      <td>0</td>\n",
       "      <td>1</td>\n",
       "    </tr>\n",
       "  </tbody>\n",
       "</table>\n",
       "<p>5 rows × 48 columns</p>\n",
       "</div>"
      ],
      "text/plain": [
       "   RANK     ARNO      NEETNO  MARKS                      COLLEGENAME     FEES  \\\n",
       "0  27.0   3903.0  80078691.0  594.0  MADRAS MEDICAL COLLEGE, CHENNAI  13600.0   \n",
       "1  30.0    211.0  80934693.0  590.0  MADRAS MEDICAL COLLEGE, CHENNAI  13600.0   \n",
       "2  32.0  50032.0  80462392.0  587.0  MADRAS MEDICAL COLLEGE, CHENNAI  13600.0   \n",
       "3  45.0    452.0  80136792.0  577.0  MADRAS MEDICAL COLLEGE, CHENNAI  13600.0   \n",
       "4  46.0  24946.0  80686311.0  575.0  MADRAS MEDICAL COLLEGE, CHENNAI  13600.0   \n",
       "\n",
       "   Year  SEX_F  SEX_IM  SEX_M     ...       QUOTA_ALL INDIA   QUOTA_GOVT  \\\n",
       "0  2017      0       0      1     ...                      0           1   \n",
       "1  2017      1       0      0     ...                      0           1   \n",
       "2  2017      1       0      0     ...                      0           1   \n",
       "3  2017      0       0      1     ...                      0           1   \n",
       "4  2017      1       0      0     ...                      0           1   \n",
       "\n",
       "   QUOTA_MANG  QUOTA_MANG   QUOTA_NRI  QUOTA_NRI   COLLEGETYPE_GOVT  \\\n",
       "0           0            0          0           0                 1   \n",
       "1           0            0          0           0                 1   \n",
       "2           0            0          0           0                 1   \n",
       "3           0            0          0           0                 1   \n",
       "4           0            0          0           0                 1   \n",
       "\n",
       "   COLLEGETYPE_PRIVATE  COURSE_BDS  COURSE_MBBS  \n",
       "0                    0           0            1  \n",
       "1                    0           0            1  \n",
       "2                    0           0            1  \n",
       "3                    0           0            1  \n",
       "4                    0           0            1  \n",
       "\n",
       "[5 rows x 48 columns]"
      ]
     },
     "execution_count": 9,
     "metadata": {},
     "output_type": "execute_result"
    }
   ],
   "source": [
    "features_Neet = pd.get_dummies(Read_Neet, columns=['SEX','COM','QUOTA','COLLEGETYPE','COURSE'])\n",
    "features_Neet.head()"
   ]
  },
  {
   "cell_type": "code",
   "execution_count": 10,
   "metadata": {},
   "outputs": [
    {
     "name": "stderr",
     "output_type": "stream",
     "text": [
      "C:\\Users\\hp\\Anaconda2\\lib\\site-packages\\ipykernel_launcher.py:2: FutureWarning: Method .as_matrix will be removed in a future version. Use .values instead.\n",
      "  \n"
     ]
    },
    {
     "data": {
      "text/plain": [
       "array([[2.70000000e+01, 3.90300000e+03, 8.00786910e+07, ...,\n",
       "        0.00000000e+00, 0.00000000e+00, 1.00000000e+00],\n",
       "       [3.00000000e+01, 2.11000000e+02, 8.09346930e+07, ...,\n",
       "        0.00000000e+00, 0.00000000e+00, 1.00000000e+00],\n",
       "       [3.20000000e+01, 5.00320000e+04, 8.04623920e+07, ...,\n",
       "        0.00000000e+00, 0.00000000e+00, 1.00000000e+00],\n",
       "       ...,\n",
       "       [4.07500000e+03, 3.53300000e+03, 5.11806402e+08, ...,\n",
       "        1.00000000e+00, 0.00000000e+00, 1.00000000e+00],\n",
       "       [4.12500000e+03, 1.12060000e+04, 5.12004155e+08, ...,\n",
       "        1.00000000e+00, 0.00000000e+00, 1.00000000e+00],\n",
       "       [7.08900000e+03, 6.17300000e+03, 5.11605339e+08, ...,\n",
       "        1.00000000e+00, 0.00000000e+00, 1.00000000e+00]])"
      ]
     },
     "execution_count": 10,
     "metadata": {},
     "output_type": "execute_result"
    }
   ],
   "source": [
    "X = features_Neet.drop(['FEES','COLLEGENAME','Year'],axis=1)\n",
    "X = X.fillna(X.mean()).as_matrix()\n",
    "X\n"
   ]
  },
  {
   "cell_type": "code",
   "execution_count": 11,
   "metadata": {},
   "outputs": [
    {
     "data": {
      "text/plain": [
       "0    MADRAS MEDICAL COLLEGE, CHENNAI\n",
       "1    MADRAS MEDICAL COLLEGE, CHENNAI\n",
       "2    MADRAS MEDICAL COLLEGE, CHENNAI\n",
       "3    MADRAS MEDICAL COLLEGE, CHENNAI\n",
       "4    MADRAS MEDICAL COLLEGE, CHENNAI\n",
       "Name: COLLEGENAME, dtype: object"
      ]
     },
     "execution_count": 11,
     "metadata": {},
     "output_type": "execute_result"
    }
   ],
   "source": [
    "College = features_Neet['COLLEGENAME']\n",
    "College.head()"
   ]
  },
  {
   "cell_type": "code",
   "execution_count": 12,
   "metadata": {},
   "outputs": [
    {
     "data": {
      "text/plain": [
       "array([28, 43, 25, 29, 47,  5, 51,  9, 16, 14, 50, 21, 55, 48, 12, 56, 49,\n",
       "       37, 52, 15, 17, 18, 34, 13,  6, 23, 31, 38, 11, 19, 54, 45,  2, 40,\n",
       "       46, 33,  0,  4, 20, 26, 32, 35, 39, 41, 57, 27,  7, 10, 42, 44, 36,\n",
       "       30,  3, 22, 53, 24,  1,  8], dtype=int64)"
      ]
     },
     "execution_count": 12,
     "metadata": {},
     "output_type": "execute_result"
    }
   ],
   "source": [
    "# Import label encoder \n",
    "from sklearn import preprocessing \n",
    "  \n",
    "# label_encoder object knows how to understand word labels. \n",
    "label_encoder = preprocessing.LabelEncoder() \n",
    "  \n",
    "# Encode labels in column 'species'. \n",
    "Read_Neet['COLLEGENAME']= label_encoder.fit_transform(Read_Neet['COLLEGENAME']) \n",
    "  \n",
    "Read_Neet['COLLEGENAME'].unique() \n"
   ]
  },
  {
   "cell_type": "code",
   "execution_count": 13,
   "metadata": {},
   "outputs": [
    {
     "name": "stderr",
     "output_type": "stream",
     "text": [
      "C:\\Users\\hp\\Anaconda2\\lib\\site-packages\\ipykernel_launcher.py:1: FutureWarning: Method .as_matrix will be removed in a future version. Use .values instead.\n",
      "  \"\"\"Entry point for launching an IPython kernel.\n"
     ]
    },
    {
     "data": {
      "text/plain": [
       "array([28, 28, 28, ..., 19, 19, 19])"
      ]
     },
     "execution_count": 13,
     "metadata": {},
     "output_type": "execute_result"
    }
   ],
   "source": [
    "y = Read_Neet['COLLEGENAME'].as_matrix()\n",
    "y"
   ]
  },
  {
   "cell_type": "code",
   "execution_count": 14,
   "metadata": {},
   "outputs": [],
   "source": [
    "X_train, X_test, y_train, y_test = train_test_split(X, y, test_size=0.3, random_state=4)\n"
   ]
  },
  {
   "cell_type": "code",
   "execution_count": 15,
   "metadata": {},
   "outputs": [
    {
     "data": {
      "text/plain": [
       "array([20, 23,  7, ..., 45, 43, 12])"
      ]
     },
     "execution_count": 15,
     "metadata": {},
     "output_type": "execute_result"
    }
   ],
   "source": [
    "X_train\n",
    "y_train\n",
    "X_test\n",
    "y_test"
   ]
  },
  {
   "cell_type": "code",
   "execution_count": 38,
   "metadata": {},
   "outputs": [
    {
     "data": {
      "text/plain": [
       "GradientBoostingRegressor(alpha=0.9, criterion='friedman_mse', init=None,\n",
       "             learning_rate=0.1, loss='huber', max_depth=6,\n",
       "             max_features=0.1, max_leaf_nodes=None,\n",
       "             min_impurity_decrease=0.0, min_impurity_split=None,\n",
       "             min_samples_leaf=9, min_samples_split=2,\n",
       "             min_weight_fraction_leaf=0.0, n_estimators=1000,\n",
       "             n_iter_no_change=None, presort='auto', random_state=None,\n",
       "             subsample=1.0, tol=0.0001, validation_fraction=0.1, verbose=0,\n",
       "             warm_start=False)"
      ]
     },
     "execution_count": 38,
     "metadata": {},
     "output_type": "execute_result"
    }
   ],
   "source": [
    "model = ensemble.GradientBoostingRegressor(\n",
    "    n_estimators=1000,\n",
    "    learning_rate=0.1,\n",
    "    max_depth=6,\n",
    "    min_samples_leaf=9,\n",
    "    max_features=0.1,\n",
    "    loss='huber'\n",
    ")\n",
    "model.fit(X_train, y_train)"
   ]
  },
  {
   "cell_type": "code",
   "execution_count": 39,
   "metadata": {},
   "outputs": [
    {
     "name": "stdout",
     "output_type": "stream",
     "text": [
      "Training Set Mean Absolute Error: 8.91\n",
      "Test Set Mean Absolute Error: 12.10\n"
     ]
    }
   ],
   "source": [
    "mae = mean_absolute_error(y_train, model.predict(X_train))\n",
    "print(\"Training Set Mean Absolute Error: %.2f\" % mae)\n",
    "\n",
    "# Find the error rate on the test set\n",
    "mae = mean_absolute_error(y_test, model.predict(X_test))\n",
    "print(\"Test Set Mean Absolute Error: %.2f\" % mae)"
   ]
  },
  {
   "cell_type": "code",
   "execution_count": 40,
   "metadata": {},
   "outputs": [
    {
     "data": {
      "text/plain": [
       "['model/trained_Neet.pkl']"
      ]
     },
     "execution_count": 40,
     "metadata": {},
     "output_type": "execute_result"
    }
   ],
   "source": [
    "joblib.dump(model, 'model/trained_Neet.pkl')"
   ]
  },
  {
   "cell_type": "code",
   "execution_count": 19,
   "metadata": {},
   "outputs": [
    {
     "data": {
      "text/plain": [
       "['RANK',\n",
       " 'ARNO',\n",
       " 'NEETNO',\n",
       " 'MARKS',\n",
       " 'COLLEGENAME',\n",
       " 'FEES',\n",
       " 'Year',\n",
       " 'SEX_F',\n",
       " 'SEX_IM',\n",
       " 'SEX_M',\n",
       " 'SEX_ST',\n",
       " 'SEX_UR',\n",
       " 'COM_AIQ',\n",
       " 'COM_BC',\n",
       " 'COM_BC (ES)',\n",
       " 'COM_BC (PH)',\n",
       " 'COM_BC (SP)',\n",
       " 'COM_BCM',\n",
       " 'COM_ESIQ',\n",
       " 'COM_GN',\n",
       " 'COM_GN (PH)',\n",
       " 'COM_MBC/DNC',\n",
       " 'COM_MBC/DNC (ES)',\n",
       " 'COM_MBC/DNC (PH)',\n",
       " 'COM_MBC/DNC (SP)',\n",
       " 'COM_OBC',\n",
       " 'COM_OBC (PH)',\n",
       " 'COM_OC',\n",
       " 'COM_OC (PH)',\n",
       " 'COM_OC (SP)',\n",
       " 'COM_SC',\n",
       " 'COM_SC (PH)',\n",
       " 'COM_SCA',\n",
       " 'COM_ST',\n",
       " 'COM_ST (PH)',\n",
       " 'COM_UR',\n",
       " 'COM_UR (PH)',\n",
       " 'QUOTA_ALL INDIA',\n",
       " 'QUOTA_ALL INDIA ',\n",
       " 'QUOTA_GOVT',\n",
       " 'QUOTA_MANG',\n",
       " 'QUOTA_MANG ',\n",
       " 'QUOTA_NRI',\n",
       " 'QUOTA_NRI ',\n",
       " 'COLLEGETYPE_GOVT',\n",
       " 'COLLEGETYPE_PRIVATE',\n",
       " 'COURSE_BDS',\n",
       " 'COURSE_MBBS']"
      ]
     },
     "execution_count": 19,
     "metadata": {},
     "output_type": "execute_result"
    }
   ],
   "source": [
    "Columns = features_Neet.columns.tolist()\n",
    "Columns"
   ]
  },
  {
   "cell_type": "code",
   "execution_count": 41,
   "metadata": {},
   "outputs": [],
   "source": [
    "import numpy as np\n",
    "from sklearn.externals import joblib\n",
    "\n",
    "# Load the trained model created with train_model.py\n",
    "model = joblib.load('model/trained_Neet.pkl')"
   ]
  },
  {
   "cell_type": "code",
   "execution_count": 21,
   "metadata": {},
   "outputs": [
    {
     "data": {
      "text/plain": [
       "array(['RANK', 'ARNO', 'NEETNO', 'MARKS', 'COLLEGENAME', 'FEES', 'Year',\n",
       "       'SEX_F', 'SEX_IM', 'SEX_M', 'SEX_ST', 'SEX_UR', 'COM_AIQ',\n",
       "       'COM_BC', 'COM_BC (ES)', 'COM_BC (PH)', 'COM_BC (SP)', 'COM_BCM',\n",
       "       'COM_ESIQ', 'COM_GN', 'COM_GN (PH)', 'COM_MBC/DNC',\n",
       "       'COM_MBC/DNC (ES)', 'COM_MBC/DNC (PH)', 'COM_MBC/DNC (SP)',\n",
       "       'COM_OBC', 'COM_OBC (PH)', 'COM_OC', 'COM_OC (PH)', 'COM_OC (SP)',\n",
       "       'COM_SC', 'COM_SC (PH)', 'COM_SCA', 'COM_ST', 'COM_ST (PH)',\n",
       "       'COM_UR', 'COM_UR (PH)', 'QUOTA_ALL INDIA', 'QUOTA_ALL INDIA ',\n",
       "       'QUOTA_GOVT', 'QUOTA_MANG', 'QUOTA_MANG ', 'QUOTA_NRI',\n",
       "       'QUOTA_NRI ', 'COLLEGETYPE_GOVT', 'COLLEGETYPE_PRIVATE',\n",
       "       'COURSE_BDS', 'COURSE_MBBS'], dtype='|S19')"
      ]
     },
     "execution_count": 21,
     "metadata": {},
     "output_type": "execute_result"
    }
   ],
   "source": [
    "# These are the feature labels from our data set\n",
    "feature_labels = np.array(Columns)\n",
    "feature_labels"
   ]
  },
  {
   "cell_type": "code",
   "execution_count": 22,
   "metadata": {},
   "outputs": [],
   "source": [
    "# Create a numpy array based on the model's feature importances\n",
    "importance = model.feature_importances_"
   ]
  },
  {
   "cell_type": "code",
   "execution_count": 23,
   "metadata": {},
   "outputs": [],
   "source": [
    "# Sort the feature labels based on the feature importance rankings from the model\n",
    "feauture_indexes_by_importance = importance.argsort()"
   ]
  },
  {
   "cell_type": "code",
   "execution_count": 24,
   "metadata": {},
   "outputs": [
    {
     "name": "stdout",
     "output_type": "stream",
     "text": [
      "COM_SC (PH) - 0.0%\n",
      "COM_MBC/DNC (PH) - 0.0%\n",
      "COM_OC (PH) - 0.0%\n",
      "COM_MBC/DNC - 0.0%\n",
      "COM_GN (PH) - 0.0%\n",
      "COM_GN - 0.0%\n",
      "COM_BCM - 0.0%\n",
      "COM_BC (SP) - 0.0%\n",
      "COM_OBC - 0.0%\n",
      "COM_AIQ - 0.0%\n",
      "SEX_UR - 0.0%\n",
      "COM_BC - 0.0%\n",
      "SEX_M - 0.0%\n",
      "SEX_IM - 0.0%\n",
      "SEX_F - 0.0%\n",
      "FEES - 0.0%\n",
      "QUOTA_MANG - 0.0%\n",
      "COM_OBC (PH) - 0.0%\n",
      "COM_ST - 0.0013%\n",
      "QUOTA_GOVT - 0.068%\n",
      "COM_OC (SP) - 0.11%\n",
      "COM_SC - 0.11%\n",
      "QUOTA_ALL INDIA  - 0.13%\n",
      "COM_ST (PH) - 0.28%\n",
      "COM_BC (ES) - 0.29%\n",
      "COM_UR - 0.37%\n",
      "COM_MBC/DNC (SP) - 0.46%\n",
      "COM_BC (PH) - 0.51%\n",
      "COM_SCA - 0.51%\n",
      "COM_OC - 0.58%\n",
      "QUOTA_ALL INDIA - 0.61%\n",
      "COM_UR (PH) - 0.63%\n",
      "COM_MBC/DNC (ES) - 0.63%\n",
      "SEX_ST - 0.68%\n",
      "COM_ESIQ - 0.7%\n",
      "COLLEGENAME - 0.75%\n",
      "Year - 0.77%\n",
      "QUOTA_NRI  - 1.1%\n",
      "COLLEGETYPE_GOVT - 1.4%\n",
      "QUOTA_MANG  - 3.2%\n",
      "QUOTA_NRI - 4.5%\n",
      "ARNO - 1.7e+01%\n",
      "MARKS - 2e+01%\n",
      "NEETNO - 2e+01%\n",
      "RANK - 2.5e+01%\n"
     ]
    }
   ],
   "source": [
    "# Print each feature label, from most important to least important (reverse order)\n",
    "for index in feauture_indexes_by_importance:\n",
    "    print(\"{} - {:.2}%\".format(feature_labels[index], (importance[index] * 100.0)))\n"
   ]
  },
  {
   "cell_type": "code",
   "execution_count": 42,
   "metadata": {},
   "outputs": [
    {
     "name": "stdout",
     "output_type": "stream",
     "text": [
      "Mean Absolute Error (DT) : 13.3119\n",
      "Mean Absolute Error (AdaBoost) : 11.8133\n"
     ]
    }
   ],
   "source": [
    "from sklearn.tree import DecisionTreeRegressor\n",
    "from sklearn.ensemble import AdaBoostRegressor\n",
    "\n",
    "# Fit regression model\n",
    "regr_1 = DecisionTreeRegressor(max_depth=4)\n",
    "\n",
    "regr_2 = AdaBoostRegressor(DecisionTreeRegressor(max_depth=50),n_estimators=70)\n",
    "\n",
    "regr_1.fit(X_train, y_train)\n",
    "regr_2.fit(X_train, y_train)\n",
    "\n",
    "# Predict\n",
    "y_1 = regr_1.predict(X_test)\n",
    "y_2 = regr_2.predict(X_test)\n",
    "\n",
    "mse_dtr = mean_absolute_error(y_test, y_1)\n",
    "print(\"Mean Absolute Error (DT) : %.4f\" % mse_dtr)\n",
    "\n",
    "mse_ar = mean_absolute_error(y_test, y_2)\n",
    "print(\"Mean Absolute Error (AdaBoost) : %.4f\" % mse_ar)"
   ]
  },
  {
   "cell_type": "code",
   "execution_count": 43,
   "metadata": {},
   "outputs": [
    {
     "name": "stdout",
     "output_type": "stream",
     "text": [
      "Mean Absolute Error : 13.56\n"
     ]
    }
   ],
   "source": [
    "from sklearn import linear_model\n",
    "\n",
    "reg_lm = linear_model.LinearRegression()\n",
    "reg_lm.fit (X_train,y_train)\n",
    "pred=reg_lm.predict(X_test)\n",
    "mse_lm = mean_absolute_error(y_test,pred)\n",
    "print(\"Mean Absolute Error : %.2f\" % mse_lm)"
   ]
  },
  {
   "cell_type": "code",
   "execution_count": 44,
   "metadata": {},
   "outputs": [
    {
     "name": "stdout",
     "output_type": "stream",
     "text": [
      "Mean Absolute Error : 14476609380956632913018880.00\n"
     ]
    }
   ],
   "source": [
    "from sklearn.linear_model import SGDRegressor\n",
    "\n",
    "reg_sgd = linear_model.SGDRegressor()\n",
    "reg_sgd.fit (X_train,y_train)\n",
    "pred=reg_sgd.predict(X_test)\n",
    "mse_sgd = mean_absolute_error(y_test,pred)\n",
    "print(\"Mean Absolute Error : %.2f\" % mse_sgd)\n"
   ]
  },
  {
   "cell_type": "code",
   "execution_count": 45,
   "metadata": {},
   "outputs": [
    {
     "name": "stdout",
     "output_type": "stream",
     "text": [
      "Training Set Mean Absolute Error: 13.73\n",
      "Test Set Mean Absolute Error: 13.56\n"
     ]
    }
   ],
   "source": [
    "mse = mean_absolute_error(y_train, reg_lm.predict(X_train))\n",
    "print(\"Training Set Mean Absolute Error: %.2f\" % mse)\n",
    "\n",
    "# Find the error rate on the test set\n",
    "mse = mean_absolute_error(y_test, reg_lm.predict(X_test))\n",
    "print(\"Test Set Mean Absolute Error: %.2f\" % mse)"
   ]
  },
  {
   "cell_type": "code",
   "execution_count": 46,
   "metadata": {},
   "outputs": [
    {
     "name": "stdout",
     "output_type": "stream",
     "text": [
      "Mean Absolute Error : 14476609380956632913018880.00\n"
     ]
    }
   ],
   "source": [
    "from sklearn.ensemble import RandomForestRegressor\n",
    "\n",
    "reg_rf = RandomForestRegressor()\n",
    "reg_rf.fit (X_train,y_train)\n",
    "pred_rf=reg_rf.predict(X_test)\n",
    "mse_rf = mean_absolute_error(y_test,pred)\n",
    "print(\"Mean Absolute Error : %.2f\" % mse_rf)"
   ]
  },
  {
   "cell_type": "code",
   "execution_count": 47,
   "metadata": {},
   "outputs": [
    {
     "name": "stdout",
     "output_type": "stream",
     "text": [
      "Mean Absolute Error : 13.60\n"
     ]
    }
   ],
   "source": [
    "from sklearn.linear_model import BayesianRidge\n",
    "\n",
    "reg_br = BayesianRidge()\n",
    "reg_br.fit (X_train,y_train)\n",
    "pred=reg_br.predict(X_test)\n",
    "mse_br = mean_absolute_error(y_test,pred)\n",
    "print(\"Mean Absolute Error : %.2f\" % mse_br)"
   ]
  },
  {
   "cell_type": "code",
   "execution_count": 48,
   "metadata": {},
   "outputs": [
    {
     "name": "stdout",
     "output_type": "stream",
     "text": [
      "Mean Absolute Error : 13.75\n"
     ]
    }
   ],
   "source": [
    "from sklearn.svm import SVR\n",
    "\n",
    "reg_svr = SVR()\n",
    "reg_svr.fit (X_train,y_train)\n",
    "pred=reg_svr.predict(X_test)\n",
    "mse_svr = mean_absolute_error(y_test,pred)\n",
    "print(\"Mean Absolute Error : %.2f\" % mse_svr)"
   ]
  },
  {
   "cell_type": "code",
   "execution_count": 49,
   "metadata": {},
   "outputs": [
    {
     "data": {
      "text/html": [
       "<div>\n",
       "<style scoped>\n",
       "    .dataframe tbody tr th:only-of-type {\n",
       "        vertical-align: middle;\n",
       "    }\n",
       "\n",
       "    .dataframe tbody tr th {\n",
       "        vertical-align: top;\n",
       "    }\n",
       "\n",
       "    .dataframe thead th {\n",
       "        text-align: right;\n",
       "    }\n",
       "</style>\n",
       "<table border=\"1\" class=\"dataframe\">\n",
       "  <thead>\n",
       "    <tr style=\"text-align: right;\">\n",
       "      <th></th>\n",
       "      <th>MAE</th>\n",
       "      <th>Model</th>\n",
       "    </tr>\n",
       "  </thead>\n",
       "  <tbody>\n",
       "    <tr>\n",
       "      <th>1</th>\n",
       "      <td>1.181333e+01</td>\n",
       "      <td>AdaBoostRegressor</td>\n",
       "    </tr>\n",
       "    <tr>\n",
       "      <th>0</th>\n",
       "      <td>1.331191e+01</td>\n",
       "      <td>DecisionTreeRegressor</td>\n",
       "    </tr>\n",
       "    <tr>\n",
       "      <th>2</th>\n",
       "      <td>1.356315e+01</td>\n",
       "      <td>linear_model</td>\n",
       "    </tr>\n",
       "    <tr>\n",
       "      <th>5</th>\n",
       "      <td>1.360488e+01</td>\n",
       "      <td>BayesianRidge</td>\n",
       "    </tr>\n",
       "    <tr>\n",
       "      <th>6</th>\n",
       "      <td>1.374665e+01</td>\n",
       "      <td>SVR</td>\n",
       "    </tr>\n",
       "    <tr>\n",
       "      <th>3</th>\n",
       "      <td>1.447661e+25</td>\n",
       "      <td>SGDRegressor</td>\n",
       "    </tr>\n",
       "    <tr>\n",
       "      <th>4</th>\n",
       "      <td>1.447661e+25</td>\n",
       "      <td>RandomForestRegressor</td>\n",
       "    </tr>\n",
       "  </tbody>\n",
       "</table>\n",
       "</div>"
      ],
      "text/plain": [
       "            MAE                  Model\n",
       "1  1.181333e+01      AdaBoostRegressor\n",
       "0  1.331191e+01  DecisionTreeRegressor\n",
       "2  1.356315e+01           linear_model\n",
       "5  1.360488e+01          BayesianRidge\n",
       "6  1.374665e+01                    SVR\n",
       "3  1.447661e+25           SGDRegressor\n",
       "4  1.447661e+25  RandomForestRegressor"
      ]
     },
     "execution_count": 49,
     "metadata": {},
     "output_type": "execute_result"
    }
   ],
   "source": [
    "model_performance = pd.DataFrame({\n",
    "    \"Model\": ['DecisionTreeRegressor','AdaBoostRegressor','linear_model','SGDRegressor','RandomForestRegressor','BayesianRidge','SVR'],\n",
    "    \"MAE\": [mse_dtr, mse_ar, mse_lm, mse_sgd, mse_rf, mse_br, mse_svr]\n",
    "})\n",
    "\n",
    "model_performance.sort_values(by=\"MAE\", ascending=True)\n"
   ]
  },
  {
   "cell_type": "code",
   "execution_count": 50,
   "metadata": {},
   "outputs": [
    {
     "data": {
      "text/html": [
       "<div>\n",
       "<style scoped>\n",
       "    .dataframe tbody tr th:only-of-type {\n",
       "        vertical-align: middle;\n",
       "    }\n",
       "\n",
       "    .dataframe tbody tr th {\n",
       "        vertical-align: top;\n",
       "    }\n",
       "\n",
       "    .dataframe thead th {\n",
       "        text-align: right;\n",
       "    }\n",
       "</style>\n",
       "<table border=\"1\" class=\"dataframe\">\n",
       "  <thead>\n",
       "    <tr style=\"text-align: right;\">\n",
       "      <th></th>\n",
       "      <th>Actual</th>\n",
       "      <th>Pred</th>\n",
       "    </tr>\n",
       "  </thead>\n",
       "  <tbody>\n",
       "    <tr>\n",
       "      <th>0</th>\n",
       "      <td>20</td>\n",
       "      <td>20.0</td>\n",
       "    </tr>\n",
       "    <tr>\n",
       "      <th>1</th>\n",
       "      <td>23</td>\n",
       "      <td>18.0</td>\n",
       "    </tr>\n",
       "    <tr>\n",
       "      <th>2</th>\n",
       "      <td>7</td>\n",
       "      <td>32.0</td>\n",
       "    </tr>\n",
       "    <tr>\n",
       "      <th>3</th>\n",
       "      <td>18</td>\n",
       "      <td>18.0</td>\n",
       "    </tr>\n",
       "    <tr>\n",
       "      <th>4</th>\n",
       "      <td>14</td>\n",
       "      <td>34.0</td>\n",
       "    </tr>\n",
       "  </tbody>\n",
       "</table>\n",
       "</div>"
      ],
      "text/plain": [
       "   Actual  Pred\n",
       "0      20  20.0\n",
       "1      23  18.0\n",
       "2       7  32.0\n",
       "3      18  18.0\n",
       "4      14  34.0"
      ]
     },
     "execution_count": 50,
     "metadata": {},
     "output_type": "execute_result"
    }
   ],
   "source": [
    "train_val=pd.DataFrame({\"Actual\":y_train,\"Pred\":regr_2.predict(X_train)})\n",
    "test_val=pd.DataFrame({\"Actual\":y_test,\"Pred\":regr_2.predict(X_test)})\n",
    "test_val.head()\n"
   ]
  },
  {
   "cell_type": "code",
   "execution_count": 51,
   "metadata": {},
   "outputs": [
    {
     "data": {
      "text/plain": [
       "<matplotlib.axes._subplots.AxesSubplot at 0x197aa0f0>"
      ]
     },
     "execution_count": 51,
     "metadata": {},
     "output_type": "execute_result"
    },
    {
     "data": {
      "image/png": "[encoded data removed]",
      "text/plain": [
       "<Figure size 1440x720 with 1 Axes>"
      ]
     },
     "metadata": {
      "needs_background": "light"
     },
     "output_type": "display_data"
    }
   ],
   "source": [
    "## %matplotlib inline\n",
    "import matplotlib.pyplot as plt\n",
    "import seaborn as sns\n",
    "\n",
    "a4_dims = (20, 10)\n",
    "fig, ax = plt.subplots(figsize=a4_dims)\n",
    "\n",
    "sns.lineplot(ax=ax,data=test_val[:100],palette='tab10')"
   ]
  }
 ],
 "metadata": {
  "kernelspec": {
   "display_name": "Python 2",
   "language": "python",
   "name": "python2"
  },
  "language_info": {
   "codemirror_mode": {
    "name": "ipython",
    "version": 2
   },
   "file_extension": ".py",
   "mimetype": "text/x-python",
   "name": "python",
   "nbconvert_exporter": "python",
   "pygments_lexer": "ipython2",
   "version": "2.7.15"
  }
 },
 "nbformat": 4,
 "nbformat_minor": 2
}
